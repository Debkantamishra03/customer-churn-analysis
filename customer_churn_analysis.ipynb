{
  "nbformat": 4,
  "nbformat_minor": 0,
  "metadata": {
    "colab": {
      "provenance": []
    },
    "kernelspec": {
      "name": "python3",
      "display_name": "Python 3"
    },
    "language_info": {
      "name": "python"
    }
  },
  "cells": [
    {
      "cell_type": "markdown",
      "source": [
        "# Customer Churn Analysis"
      ],
      "metadata": {
        "id": "Y9y5v54_U2d9"
      }
    },
    {
      "cell_type": "code",
      "source": [
        "\n",
        "# Customer Churn Analysis\n",
        "\n",
        "# ========================================\n",
        "# 1. Kaggle API Setup & Dataset Download\n",
        "# ========================================\n",
        "from google.colab import files\n",
        "files.upload()\n",
        "\n",
        "!mkdir -p ~/.kaggle\n",
        "!cp kaggle.json ~/.kaggle/\n",
        "!chmod 600 ~/.kaggle/kaggle.json\n",
        "\n",
        "!kaggle datasets download -d yeanzc/telco-customer-churn-ibm-dataset\n",
        "!unzip \"*.zip\"\n",
        "\n",
        "\n",
        "\n",
        "\n"
      ],
      "metadata": {
        "id": "tuT0LDNGU4vz"
      },
      "execution_count": null,
      "outputs": []
    },
    {
      "cell_type": "code",
      "source": [
        "# ========================================\n",
        "# 2. Import Libraries\n",
        "# ========================================\n",
        "import numpy as np\n",
        "import pandas as pd\n",
        "import matplotlib.pyplot as plt\n",
        "\n",
        "\n"
      ],
      "metadata": {
        "id": "XOTiEpGjU_4q"
      },
      "execution_count": null,
      "outputs": []
    },
    {
      "cell_type": "code",
      "source": [
        "# ========================================\n",
        "# 3. Load Dataset\n",
        "# ========================================\n",
        "data = pd.read_excel(\"/content/Telco_customer_churn.xlsx\")\n",
        "print(\"Columns in dataset:\", data.columns)\n",
        "data.head()\n"
      ],
      "metadata": {
        "id": "aiAUsZ-IVQ4X"
      },
      "execution_count": null,
      "outputs": []
    },
    {
      "cell_type": "code",
      "source": [
        "\n",
        "\n",
        "# ========================================\n",
        "# 4. Data Cleaning\n",
        "# ========================================\n",
        "data = data.drop(columns=[\"CustomerID\",\"Count\",\"Country\",\"State\"])\n",
        "data['Total Charges'] = pd.to_numeric(data['Total Charges'], errors=\"coerce\")\n",
        "data = data.dropna(subset=[\"Total Charges\"])\n",
        "data = data.drop_duplicates()\n",
        "print(\"Final shape after cleaning:\", data.shape)\n",
        "\n",
        "\n"
      ],
      "metadata": {
        "id": "Hu97PeK1VSAc"
      },
      "execution_count": null,
      "outputs": []
    },
    {
      "cell_type": "code",
      "source": [
        "# ========================================\n",
        "# 5. Overall Churn Rate\n",
        "# ========================================\n",
        "total = data['Churn Value'].value_counts().sum()\n",
        "churn = data['Churn Value'].sum()\n",
        "print(f\"Overall Churn Rate: {(churn/total)*100:.2f}%\")\n",
        "\n",
        "data['Churn Value'].value_counts().plot(\n",
        "    kind=\"pie\", autopct=\"%1.2f%%\",\n",
        "    labels=[\"Not Churned\", \"Churned\"],\n",
        "    title=\"Customer Churn Distribution\"\n",
        ")\n",
        "plt.savefig(\"images/churn_distribution.png\", bbox_inches=\"tight\")\n",
        "plt.show()\n",
        "\n",
        "\n"
      ],
      "metadata": {
        "id": "2eI9LRDxVTMP"
      },
      "execution_count": null,
      "outputs": []
    },
    {
      "cell_type": "code",
      "source": [
        "# ========================================\n",
        "# 6. Churn by Gender\n",
        "# ========================================\n",
        "t_male, t_female = data['Gender'].value_counts()\n",
        "churn_male = data[(data['Gender']==\"Male\") & (data['Churn Value']==1)].shape[0]\n",
        "churn_female = data[(data['Gender']==\"Female\") & (data['Churn Value']==1)].shape[0]\n",
        "\n",
        "plt.bar([\"Male\",\"Female\"],\n",
        "        [(churn_male/t_male)*100, (churn_female/t_female)*100],\n",
        "        color=[\"blue\",\"pink\"])\n",
        "plt.ylabel('Churn Percentage')\n",
        "plt.title('Churn Percentage by Gender')\n",
        "plt.savefig(\"images/churn_by_gender.png\", bbox_inches=\"tight\")\n",
        "plt.show()\n",
        "\n",
        "\n",
        "\n",
        "\n"
      ],
      "metadata": {
        "id": "Z38u80YeVT7i"
      },
      "execution_count": null,
      "outputs": []
    },
    {
      "cell_type": "code",
      "source": [
        "# ========================================\n",
        "# 7. Churn by Partner Status\n",
        "# ========================================\n",
        "p_churn = data[(data['Partner']==\"Yes\") & (data['Churn Value']==1)].shape[0]\n",
        "total_p = (data['Partner']==\"Yes\").sum()\n",
        "\n",
        "plt.pie([total_p - p_churn, p_churn],\n",
        "        colors=[\"green\",\"red\"],\n",
        "        labels=[\"Non-Churned Partners\",\"Churned Partners\"],\n",
        "        autopct=\"%1.1f%%\")\n",
        "plt.title(\"Churn By Partner Status\")\n",
        "plt.savefig(\"images/churn_by_partner.png\", bbox_inches=\"tight\")\n",
        "plt.show()\n",
        "\n",
        "\n"
      ],
      "metadata": {
        "id": "ZLfW5_z9VUmF"
      },
      "execution_count": null,
      "outputs": []
    },
    {
      "cell_type": "code",
      "source": [
        "\n",
        "# ========================================\n",
        "# 8. Churn by Tenure\n",
        "# ========================================\n",
        "avg_tenure = data['Tenure Months'].mean()\n",
        "new_c = data[(data['Churn Value']==1) & (data['Tenure Months']<avg_tenure)].shape[0]\n",
        "t_new = (data['Tenure Months']<avg_tenure).sum()\n",
        "\n",
        "old_c = data[(data['Churn Value']==1) & (data['Tenure Months']>avg_tenure)].shape[0]\n",
        "t_old = (data['Tenure Months']>avg_tenure).sum()\n",
        "\n",
        "plt.barh([\"New Customers\",\"Old Customers\"],\n",
        "         [(new_c/t_new)*100, (old_c/t_old)*100],\n",
        "         color=[\"lightcoral\",\"skyblue\"])\n",
        "plt.title(\"Churn Rate by Customer Tenure\")\n",
        "plt.savefig(\"images/churn_by_tenure.png\", bbox_inches=\"tight\")\n",
        "plt.show()\n",
        "\n"
      ],
      "metadata": {
        "id": "O4Pv8CajVWA2"
      },
      "execution_count": null,
      "outputs": []
    },
    {
      "cell_type": "code",
      "source": [
        "# ========================================\n",
        "# 9. Churn by Tech Support\n",
        "# ========================================\n",
        "supp_c = data[(data['Tech Support']==\"Yes\") & (data['Churn Value']==1)].shape[0]\n",
        "t_supp = (data['Tech Support']==\"Yes\").sum()\n",
        "\n",
        "n_supp_c = data[(data['Tech Support']==\"No\") & (data['Churn Value']==1)].shape[0]\n",
        "t_n_supp = (data['Tech Support']==\"No\").sum()\n",
        "\n",
        "plt.barh([\"With Tech Support\",\"Without Tech Support\"],\n",
        "         [(supp_c/t_supp)*100, (n_supp_c/t_n_supp)*100])\n",
        "plt.title(\"Churn By Tech Support\")\n",
        "plt.savefig(\"images/churn_by_techsupport.png\", bbox_inches=\"tight\")\n",
        "plt.show()\n"
      ],
      "metadata": {
        "id": "yQmGjl14VWua"
      },
      "execution_count": null,
      "outputs": []
    }
  ]
}