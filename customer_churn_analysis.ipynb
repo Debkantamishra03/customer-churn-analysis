

# Customer Churn Analysis

# ========================================
# 1. Kaggle API Setup & Dataset Download
# ========================================
from google.colab import files
files.upload()

!mkdir -p ~/.kaggle
!cp kaggle.json ~/.kaggle/
!chmod 600 ~/.kaggle/kaggle.json

!kaggle datasets download -d yeanzc/telco-customer-churn-ibm-dataset
!unzip "*.zip"

# ========================================
# 2. Import Libraries
# ========================================
import numpy as np
import pandas as pd
import matplotlib.pyplot as plt

# ========================================
# 3. Load Dataset
# ========================================
data = pd.read_excel("/content/Telco_customer_churn.xlsx")
print("Columns in dataset:", data.columns)
data.head()

# ========================================
# 4. Data Cleaning
# ========================================
data = data.drop(columns=["CustomerID","Count","Country","State"])
data['Total Charges'] = pd.to_numeric(data['Total Charges'], errors="coerce")
data = data.dropna(subset=["Total Charges"])
data = data.drop_duplicates()
print("Final shape after cleaning:", data.shape)

# ========================================
# 5. Overall Churn Rate
# ========================================
total = data['Churn Value'].value_counts().sum()
churn = data['Churn Value'].sum()
print(f"Overall Churn Rate: {(churn/total)*100:.2f}%")

data['Churn Value'].value_counts().plot(
    kind="pie", autopct="%1.2f%%",
    labels=["Not Churned", "Churned"],
    title="Customer Churn Distribution"
)
plt.savefig("images/churn_distribution.png", bbox_inches="tight")
plt.show()

# ========================================
# 6. Churn by Gender
# ========================================
t_male, t_female = data['Gender'].value_counts()
churn_male = data[(data['Gender']=="Male") & (data['Churn Value']==1)].shape[0]
churn_female = data[(data['Gender']=="Female") & (data['Churn Value']==1)].shape[0]

plt.bar(["Male","Female"],
        [(churn_male/t_male)*100, (churn_female/t_female)*100],
        color=["blue","pink"])
plt.ylabel('Churn Percentage')
plt.title('Churn Percentage by Gender')
plt.savefig("images/churn_by_gender.png", bbox_inches="tight")
plt.show()

# ========================================
# 7. Churn by Partner Status
# ========================================
p_churn = data[(data['Partner']=="Yes") & (data['Churn Value']==1)].shape[0]
total_p = (data['Partner']=="Yes").sum()

plt.pie([total_p - p_churn, p_churn],
        colors=["green","red"],
        labels=["Non-Churned Partners","Churned Partners"],
        autopct="%1.1f%%")
plt.title("Churn By Partner Status")
plt.savefig("images/churn_by_partner.png", bbox_inches="tight")
plt.show()

# ========================================
# 8. Churn by Tenure
# ========================================
avg_tenure = data['Tenure Months'].mean()
new_c = data[(data['Churn Value']==1) & (data['Tenure Months']<avg_tenure)].shape[0]
t_new = (data['Tenure Months']<avg_tenure).sum()

old_c = data[(data['Churn Value']==1) & (data['Tenure Months']>avg_tenure)].shape[0]
t_old = (data['Tenure Months']>avg_tenure).sum()

plt.barh(["New Customers","Old Customers"],
         [(new_c/t_new)*100, (old_c/t_old)*100],
         color=["lightcoral","skyblue"])
plt.title("Churn Rate by Customer Tenure")
plt.savefig("images/churn_by_tenure.png", bbox_inches="tight")
plt.show()

# ========================================
# 9. Churn by Tech Support
# ========================================
supp_c = data[(data['Tech Support']=="Yes") & (data['Churn Value']==1)].shape[0]
t_supp = (data['Tech Support']=="Yes").sum()

n_supp_c = data[(data['Tech Support']=="No") & (data['Churn Value']==1)].shape[0]
t_n_supp = (data['Tech Support']=="No").sum()

plt.barh(["With Tech Support","Without Tech Support"],
         [(supp_c/t_supp)*100, (n_supp_c/t_n_supp)*100])
plt.title("Churn By Tech Support")
plt.savefig("images/churn_by_techsupport.png", bbox_inches="tight")
plt.show()
